{
  "nbformat": 4,
  "nbformat_minor": 0,
  "metadata": {
    "colab": {
      "provenance": []
    },
    "kernelspec": {
      "name": "python3",
      "display_name": "Python 3"
    },
    "language_info": {
      "name": "python"
    }
  },
  "cells": [
    {
      "cell_type": "code",
      "execution_count": null,
      "metadata": {
        "id": "Yw9lTH-MG26-"
      },
      "outputs": [],
      "source": []
    },
    {
      "cell_type": "markdown",
      "source": [],
      "metadata": {
        "id": "R36q1NeHG30X"
      }
    },
    {
      "cell_type": "markdown",
      "source": [
        "Files, exceptional handling, logging and\n",
        "memory management"
      ],
      "metadata": {
        "id": "XMuchK6OG_B_"
      }
    },
    {
      "cell_type": "code",
      "source": [],
      "metadata": {
        "id": "mJxhAZFKHA41"
      },
      "execution_count": null,
      "outputs": []
    },
    {
      "cell_type": "markdown",
      "source": [
        "1.What is the difference between interpreted and compiled languages?\n",
        "Ans- In compiled languages, the source code is translated into machine code (or an intermediate code) by a compiler before it is run on the machine.\n",
        "Process: The compiler processes the entire program and produces an executable file (like .exe in Windows or a binary file on Unix systems). This executable can be run directly by the operating system without needing the source code again.\n",
        "Examples: C, C++, Rust, Go.\n",
        "Performance: Generally faster at runtime because the code is already translated into machine code.\n",
        "Error Checking: Errors are typically caught during the compilation process, so you know about them before running the program.\n",
        "\n",
        " In interpreted languages, the source code is executed directly by an interpreter. The interpreter reads and executes the code line-by-line or statement-by-statement.\n",
        "Process: The interpreter does not produce an executable file. Instead, it reads the source code every time you run the program and executes it on the fly.\n",
        "Examples: Python, JavaScript, Ruby, PHP.\n",
        "Performance: Usually slower at runtime because the code needs to be interpreted each time it runs.\n",
        "Error Checking: Errors are typically encountered and reported while the program is running, which might make debugging a bit slower compared to compiled languages."
      ],
      "metadata": {
        "id": "o2oBzcXBHBj7"
      }
    },
    {
      "cell_type": "code",
      "source": [],
      "metadata": {
        "id": "4-lxQFoqHdNv"
      },
      "execution_count": null,
      "outputs": []
    },
    {
      "cell_type": "markdown",
      "source": [
        "2.What is exception handling in Python?\n",
        "Ans-Exception handling in Python refers to the process of responding to runtime errors (or exceptions) that can occur during the execution of a program. Instead of the program crashing when an error occurs, Python provides a way to handle errors gracefully, allowing the program to continue running or handle the error in a specific way."
      ],
      "metadata": {
        "id": "7ssquiP6Hduk"
      }
    },
    {
      "cell_type": "code",
      "source": [],
      "metadata": {
        "id": "eGNMSuf6HsG_"
      },
      "execution_count": null,
      "outputs": []
    },
    {
      "cell_type": "markdown",
      "source": [],
      "metadata": {
        "id": "zmlXgIpqHs5R"
      }
    },
    {
      "cell_type": "markdown",
      "source": [
        "3.What is the purpose of the finally block in exception handling?\n",
        "Ans-The purpose of the finally block in exception handling is to ensure that a specific section of code is always executed, regardless of whether an exception was raised or not in the try block.\n"
      ],
      "metadata": {
        "id": "RjHrMAkxHuIa"
      }
    },
    {
      "cell_type": "code",
      "source": [],
      "metadata": {
        "id": "MGrqYIS0H-HT"
      },
      "execution_count": null,
      "outputs": []
    },
    {
      "cell_type": "markdown",
      "source": [
        "4.What is logging in Python?\n",
        "Ans-Logging in Python refers to the process of tracking and recording events, errors, or other significant actions in a program. The Python logging module provides a flexible framework for writing log messages to various outputs (like the console, files, or remote servers) with different severity levels. It's a valuable tool for debugging, monitoring, and tracking the execution flow of programs, especially in production environments.\n",
        "\n"
      ],
      "metadata": {
        "id": "aqXcX2kqH-qJ"
      }
    },
    {
      "cell_type": "code",
      "source": [],
      "metadata": {
        "id": "g4qgIUZYILnj"
      },
      "execution_count": null,
      "outputs": []
    },
    {
      "cell_type": "markdown",
      "source": [],
      "metadata": {
        "id": "6rZA8VG4JQwU"
      }
    },
    {
      "cell_type": "markdown",
      "source": [
        "5. What is the significance of the __del__ method in Python?\n",
        "Ans-The __del__ method in Python is a destructor method. It is called when an object is about to be destroyed or garbage collected, typically when it is no longer in use or has no references pointing to it.\n",
        "\n",
        "Significance of the __del__ Method\n",
        "Resource Cleanup: The main use of the __del__ method is to allow objects to clean up any resources (like open files, network connections, or database connections) before they are destroyed. This ensures that resources are released properly when an object is no longer needed.\n",
        "\n",
        "Automatic Memory Management: Python uses automatic memory management with garbage collection. The __del__ method gives you an opportunity to define custom cleanup behavior before the object is garbage collected. For example, you might want to close a file or release a lock when the object is destroyed.\n",
        "\n",
        "Finalization: It allows you to execute finalization code, such as logging or performing any last actions before the object is discarded.\n",
        "\n"
      ],
      "metadata": {
        "id": "TOwUxa6OJUXu"
      }
    },
    {
      "cell_type": "markdown",
      "source": [],
      "metadata": {
        "id": "4w7QJngKJIgQ"
      }
    },
    {
      "cell_type": "markdown",
      "source": [
        "6.What is the difference between import and from ... import in Python?\n",
        "Ans-1. import Statement\n",
        "The import statement allows you to load an entire module into your program, and you access its components (functions, classes, variables) by referencing the module name.\n",
        "\n",
        "Syntax:\n",
        "python\n",
        "Copy\n",
        "import module_name\n",
        "Example:\n",
        "python\n",
        "Copy\n",
        "import math\n",
        "\n",
        "print(math.sqrt(16))  # Accessing the sqrt function from the math module\n",
        "Here, the math module is imported as a whole, and you access its components (like sqrt) by prefixing them with the module name (math.sqrt).\n",
        "This method keeps the namespace clean by allowing you to reference the module explicitly.\n",
        "2. from ... import Statement\n",
        "The from ... import statement allows you to import specific components (functions, classes, variables) from a module, directly into your program's namespace. This eliminates the need to reference the module name when accessing the imported components.\n",
        "\n",
        "Syntax:\n",
        "python\n",
        "Copy\n",
        "from module_name import component_name\n",
        "Example:\n",
        "python\n",
        "Copy\n",
        "from math import sqrt\n",
        "\n",
        "print(sqrt(16))  # Directly using the sqrt function without prefixing with the module name\n"
      ],
      "metadata": {
        "id": "13fFsAQhJmo9"
      }
    },
    {
      "cell_type": "code",
      "source": [],
      "metadata": {
        "id": "HpHJy2jzKBOB"
      },
      "execution_count": null,
      "outputs": []
    },
    {
      "cell_type": "markdown",
      "source": [
        "7.How can you handle multiple exceptions in Python?\n",
        "Ans-In Python, you can handle multiple exceptions by using multiple except blocks or by specifying multiple exceptions in a single except block. Both approaches allow you to handle different types of errors that might occur during the execution of your program.\n",
        "\n",
        "1. Multiple except Blocks\n",
        "You can use multiple except blocks to handle different types of exceptions individually.\n",
        "\n",
        "Example:\n",
        "python\n",
        "Copy\n",
        "try:\n",
        "    num1 = int(input(\"Enter a number: \"))\n",
        "    num2 = int(input(\"Enter another number: \"))\n",
        "    result = num1 / num2\n",
        "except ZeroDivisionError:\n",
        "    print(\"Error: Cannot divide by zero.\")\n",
        "except ValueError:\n",
        "    print(\"Error: Invalid input. Please enter a valid number.\")\n",
        "except Exception as e:\n",
        "    print(f\"An unexpected error occurred: {e}\")\n",
        "Explanation:\n",
        "ZeroDivisionError: If the user tries to divide by zero, this exception will be caught.\n",
        "ValueError: If the user enters a non-numeric value, a ValueError will be raised and caught.\n",
        "Exception: This is a generic catch-all for any other exceptions not handled by the previous except blocks.\n",
        "2. Catching Multiple Exceptions in One except Block\n",
        "You can specify multiple exceptions in a single except block by using a tuple. This allows you to handle different types of exceptions in the same way.\n",
        "\n",
        "Example:\n",
        "python\n",
        "Copy\n",
        "try:\n",
        "    num1 = int(input(\"Enter a number: \"))\n",
        "    num2 = int(input(\"Enter another number: \"))\n",
        "    result = num1 / num2\n",
        "except (ZeroDivisionError, ValueError) as e:\n",
        "    print(f\"Error: {e}\")"
      ],
      "metadata": {
        "id": "0g-Xso8tKBnc"
      }
    },
    {
      "cell_type": "code",
      "source": [],
      "metadata": {
        "id": "L8LNqz1bKP5M"
      },
      "execution_count": null,
      "outputs": []
    },
    {
      "cell_type": "markdown",
      "source": [
        "8.What is the purpose of the with statement when handling files in Python?\n",
        "\n",
        "\n",
        "Ans-The with statement in Python is used for resource management and exception handling, especially when working with files or other resources like database connections, network connections, etc. It ensures that resources are properly managed and cleaned up when no longer needed, even if an error occurs during execution.\n",
        "\n",
        "When working with files, the with statement simplifies the process of opening and closing files. It automatically handles closing the file once the block of code inside the with statement is completed, regardless of whether an exception occurred.\n"
      ],
      "metadata": {
        "id": "ikJVt_4ZKUfB"
      }
    },
    {
      "cell_type": "markdown",
      "source": [],
      "metadata": {
        "id": "kH4bDg7nKSo-"
      }
    },
    {
      "cell_type": "markdown",
      "source": [
        "9. What is the difference between multithreading and multiprocessing?\n",
        "\n",
        "Ans-Multithreading\n",
        "Definition: Multithreading involves running multiple threads within a single process. Each thread shares the same memory space, which allows them to communicate more easily but also makes them more susceptible to issues like race conditions and memory corruption.\n",
        "\n",
        "Concurrency Model: Threads run concurrently, meaning the operating system manages the switching between threads (context switching). However, Python’s Global Interpreter Lock (GIL) means that only one thread can execute Python bytecodes at a time. This limits the performance improvement in CPU-bound tasks.\n",
        "\n",
        "Use Case:\n",
        "\n",
        "Best suited for I/O-bound tasks, such as reading from files, waiting for data from a network, or interacting with a database. In these cases, threads can be paused (waiting for I/O operations) and other threads can use the CPU while one is waiting for I/O.\n",
        "Lightweight compared to multiprocessing since threads share the same memory space.\n",
        "Example: Downloading multiple files concurrently or reading from multiple files in parallel.\n",
        "\n",
        "Code Example (Multithreading):\n",
        "python\n",
        "Copy\n",
        "import threading\n",
        "import time\n",
        "\n",
        "def print_numbers():\n",
        "    for i in range(1, 6):\n",
        "        print(i)\n",
        "        time.sleep(1)\n",
        "\n",
        "def print_letters():\n",
        "    for letter in ['A', 'B', 'C', 'D', 'E']:\n",
        "        print(letter)\n",
        "        time.sleep(1)\n",
        "\n",
        "# Create two threads\n",
        "thread1 = threading.Thread(target=print_numbers)\n",
        "thread2 = threading.Thread(target=print_letters)\n",
        "\n",
        "# Start the threads\n",
        "thread1.start()\n",
        "thread2.start()\n",
        "\n",
        "# Wait for both threads to finish\n",
        "thread1.join()\n",
        "thread2.join()\n",
        "\n",
        "print(\"Both threads finished!\")\n",
        "2. Multiprocessing\n",
        "Definition: Multiprocessing involves running multiple processes, each with its own memory space. This means that each process runs independently and does not share memory with others, which avoids the issues caused by shared memory in multithreading.\n",
        "\n",
        "Concurrency Model: Processes run truly in parallel on different CPU cores. This is especially beneficial for CPU-bound tasks, where each process can use a separate core of the CPU to execute its task concurrently.\n",
        "\n",
        "Use Case:\n",
        "\n",
        "Best suited for CPU-bound tasks, such as heavy computations or tasks that need a lot of CPU power. By running processes in parallel, you can take full advantage of multi-core processors.\n",
        "More memory-heavy than multithreading because each process has its own memory space.\n",
        "Example: Performing parallel data analysis, complex mathematical computations, or running simulations that require significant CPU power.\n",
        "\n",
        "Pros:\n",
        "\n",
        "Can fully utilize multiple CPU cores since each process runs in its own memory space and can be scheduled on separate CPUs.\n",
        "No Global Interpreter Lock (GIL) limitation, unlike threads in Python.\n",
        "Code Example (Multiprocessing):\n",
        "python\n",
        "Copy\n",
        "import multiprocessing\n",
        "import time\n",
        "\n",
        "def print_numbers():\n",
        "    for i in range(1, 6):\n",
        "        print(i)\n",
        "        time.sleep(1)\n",
        "\n",
        "def print_letters():\n",
        "    for letter in ['A', 'B', 'C', 'D', 'E']:\n",
        "        print(letter)\n",
        "        time.sleep(1)\n",
        "\n",
        "if __name__ == \"__main__\":\n",
        "    # Create two processes\n",
        "    process1 = multiprocessing.Process(target=print_numbers)\n",
        "    process2 = multiprocessing.Process(target=print_letters)\n",
        "\n",
        "    # Start the processes\n",
        "    process1.start()\n",
        "    process2.start()\n",
        "\n",
        "    # Wait for both processes to finish\n",
        "    process1.join()\n",
        "    process2.join()\n",
        "\n",
        "    print(\"Both processes finished!\")"
      ],
      "metadata": {
        "id": "VmmhFC1DKlT4"
      }
    },
    {
      "cell_type": "code",
      "source": [],
      "metadata": {
        "id": "wQWo9HRxK3G_"
      },
      "execution_count": null,
      "outputs": []
    },
    {
      "cell_type": "markdown",
      "source": [
        "10.What are the advantages of using logging in a program?\n",
        "Ans-1. Better Debugging and Troubleshooting\n",
        "Track Errors and Events: Logging allows you to track what happens in your program at various stages of execution. By logging relevant information (like function calls, variable values, errors, etc.), you can easily pinpoint where and why things went wrong, which helps you debug issues more effectively.\n",
        "Log Levels: You can log different levels of severity (e.g., DEBUG, INFO, WARNING, ERROR, CRITICAL), which helps to filter out unnecessary information during normal operation and focus on more important messages when debugging.\n",
        "2. Persistent Record of Program Activity\n",
        "History of Execution: Logs create a persistent record of events that have occurred in your program. These logs are useful for reviewing past activity, especially when something goes wrong or when you need to perform audits.\n",
        "Helps with Reproduction of Issues: In complex systems, it may not always be easy to reproduce an error. Logs can contain enough information (inputs, system state, or stack traces) that allow you to understand the sequence of events leading to an issue, making it easier to reproduce and fix the issue.\n",
        "3. Performance Monitoring\n",
        "Track Performance Bottlenecks: You can log performance data, such as how long certain operations or functions take to execute. This helps to identify slow parts of the program, which can be optimized for better performance.\n",
        "Real-time Monitoring: Logs can be used to monitor the health of your application in real-time. You can set up log aggregation tools that monitor log files for specific events or thresholds (e.g., long response times, error spikes) and alert you if there are any issues.\n",
        "4. Increased Maintainability\n",
        "Easier Code Maintenance: When you log meaningful information, you make your codebase easier to maintain. If someone else (or you in the future) needs to update or fix the code, the logs provide insights into how the code behaves in different scenarios, which simplifies the process of making changes.\n",
        "Auditing: Logs can also be used for auditing purposes, especially in environments where it is important to know who did what and when, such as in security-sensitive applications.\n",
        "5. Helps with Understanding Application Flow\n",
        "Flow Tracking: By logging entry/exit points for important functions or operations, you can track the flow of your application. This helps you understand what parts of the program are being executed and in what order, providing better visibility into your program's internal workings.\n",
        "Contextual Information: Logging can be used to capture contextual information, such as the user interacting with the program, the state of key variables, or the environment the code is running in (e.g., development or production). This helps you understand not just what happened, but also the context in which it happened."
      ],
      "metadata": {
        "id": "4zyIuqrRK67C"
      }
    },
    {
      "cell_type": "code",
      "source": [],
      "metadata": {
        "id": "ihAkO9nzLovr"
      },
      "execution_count": null,
      "outputs": []
    },
    {
      "cell_type": "markdown",
      "source": [
        "11. What is memory management in Python?\n",
        "\n",
        "Ans- Memory management in Python refers to the process of efficiently handling the allocation and deallocation of memory resources during the execution of a Python program. Python has an automatic memory management system, meaning that it automatically manages memory for objects created during program execution. However, this doesn't mean that developers are completely free from concerns about memory usage."
      ],
      "metadata": {
        "id": "FmsArN09LpTq"
      }
    },
    {
      "cell_type": "code",
      "source": [],
      "metadata": {
        "id": "B4NqY2p_L9yt"
      },
      "execution_count": null,
      "outputs": []
    },
    {
      "cell_type": "markdown",
      "source": [
        "12.What are the basic steps involved in exception handling in Python?\n",
        "\n",
        "Ans-Exception handling in Python allows you to manage errors and unexpected events in a controlled way, ensuring that your program can respond to issues without crashing. The basic steps involved in exception handling in Python are:\n",
        "\n",
        "1. Use of try Block\n",
        "The try block is where you place the code that might raise an exception. If an exception occurs inside the try block, Python will stop executing further code in that block and jump to the except block (if any).\n",
        "Example:\n",
        "python\n",
        "Copy\n",
        "try:\n",
        "    # Code that may raise an exception\n",
        "    num = 10 / 0\n",
        "2. Use of except Block\n",
        "The except block is used to catch and handle exceptions that occur in the try block. You can specify the type of exception to handle (e.g., ZeroDivisionError, ValueError), or you can catch any exception using a general except clause.\n",
        "You can also use multiple except blocks to handle different types of exceptions differently.\n",
        "Example:\n",
        "python\n",
        "Copy\n",
        "try:\n",
        "    num = 10 / 0\n",
        "except ZeroDivisionError:\n",
        "    print(\"Cannot divide by zero!\")\n",
        "3. Use of else Block (Optional)\n",
        "The else block is optional and runs only if no exception occurred in the try block. If there are no errors in the try block, the code inside the else block will execute.\n",
        "Example:\n",
        "python\n",
        "Copy\n",
        "try:\n",
        "    num = 10 / 2\n",
        "except ZeroDivisionError:\n",
        "    print(\"Cannot divide by zero!\")\n",
        "else:\n",
        "    print(\"Division successful!\")\n",
        "4. Use of finally Block (Optional)\n",
        "The finally block is also optional but is always executed, regardless of whether an exception occurred or not. This is typically used to perform cleanup tasks, such as closing files, releasing resources, or resetting states.\n",
        "The finally block will execute even if an exception was raised in the try block or if an exception was caught in the except block.\n",
        "Example:\n",
        "python\n",
        "Copy\n",
        "try:\n",
        "    file = open(\"example.txt\", \"r\")\n",
        "    data = file.read()\n",
        "except FileNotFoundError:\n",
        "    print(\"File not found!\")\n",
        "finally:\n",
        "    file.close()  # Ensure the file is always closed, even if an error occurred\n",
        "Full Example:\n",
        "python\n",
        "Copy\n",
        "try:\n",
        "    num = int(input(\"Enter a number: \"))\n",
        "    result = 10 / num\n",
        "except ZeroDivisionError:\n",
        "    print(\"Error: Cannot divide by zero!\")\n",
        "except ValueError:\n",
        "    print(\"Error: Invalid input. Please enter a number.\")\n",
        "else:\n",
        "    print(f\"Result: {result}\")\n",
        "finally:\n",
        "    print(\"Execution complete.\")\n",
        "Steps Summarized:\n",
        "try: Attempt to execute code that may raise an exception.\n",
        "except: Catch specific exceptions and handle them appropriately.\n",
        "else (optional): Code that runs if no exceptions were raised in the try block.\n",
        "finally (optional): Code that always runs, regardless of whether an exception occurred, often used for cleanup.\n",
        "Key Points:\n",
        "Handling Specific Exceptions: You can catch and handle specific types of exceptions, making the code more precise and informative.\n",
        "Graceful Error Handling: Exception handling allows programs to fail gracefully instead of abruptly crashing.\n",
        "Clean-Up: The finally block helps ensure that resources (like files, database connections, etc.) are cleaned up properly, even if an error occurs."
      ],
      "metadata": {
        "id": "lx4zOm44L-PA"
      }
    },
    {
      "cell_type": "code",
      "source": [],
      "metadata": {
        "id": "jNLZiW2WMNOY"
      },
      "execution_count": null,
      "outputs": []
    },
    {
      "cell_type": "markdown",
      "source": [
        "13.Why is memory management important in Python?\n",
        "\n",
        "Ans-1. Efficient Use of Resources\n",
        "Python manages memory automatically through its garbage collection system, but still, inefficient memory use can lead to performance bottlenecks. Proper memory management ensures that the program uses memory efficiently, making it run faster and consume less memory. This is especially important in large applications or applications that need to scale.\n",
        "For instance, if memory is not properly released when objects are no longer needed, it can cause excessive memory consumption and performance degradation, especially in long-running programs.\n",
        "2. Avoiding Memory Leaks\n",
        "Memory leaks occur when a program allocates memory but doesn't free it when it’s no longer needed. Over time, these unused memory blocks accumulate and can cause the program to consume all available memory, potentially crashing the system or causing slowdowns.\n",
        "In Python, memory leaks can still occur, especially in cases of circular references (where two or more objects reference each other, preventing their reference count from ever reaching zero). While Python’s garbage collector can clean up many of these issues, poorly designed code can still result in memory that’s not properly released.\n",
        "3. Optimization of Performance\n",
        "Memory optimization is directly linked to performance. A program with excessive memory consumption is likely to become slower due to increased paging (where the system moves data between RAM and disk storage) or increased garbage collection overhead.\n",
        "For example, large data structures or objects can be problematic if they're not handled well, especially in resource-constrained environments like mobile apps or embedded systems. Efficient memory management helps ensure that data is stored and accessed in the most optimal way.\n",
        "4. Scalability\n",
        "Efficient memory management is important for scaling applications. As the size of the data and number of users increase, the program must be able to handle larger memory loads without failing. If memory isn't properly managed, the program might not scale as expected and could crash or slow down when dealing with large datasets.\n",
        "Python’s garbage collection system, for example, uses memory pools and reference counting to ensure that objects are efficiently managed, and proper memory management helps maintain scalability.\n",
        "5. Preventing Memory Fragmentation\n",
        "Over time, as memory is allocated and deallocated in a program, memory fragmentation can occur, especially in long-running applications. Fragmentation happens when free memory is scattered across the system, making it harder to allocate larger contiguous memory blocks when needed.\n",
        "Python’s memory management tries to mitigate this by using memory pools for small objects (like integers and strings) and performing regular garbage collection to reduce fragmentation."
      ],
      "metadata": {
        "id": "HL37s-GuMRx_"
      }
    },
    {
      "cell_type": "code",
      "source": [],
      "metadata": {
        "id": "fGMJI3GdMcGj"
      },
      "execution_count": null,
      "outputs": []
    },
    {
      "cell_type": "markdown",
      "source": [
        "13.What is the role of try and except in exception handling?\n",
        "\n",
        "Ans-The Role of try and except in Exception Handling:\n",
        "1. try Block:\n",
        "The try block is where you place the code that may raise an exception.\n",
        "The code inside the try block is executed line by line, and if any exception occurs, Python immediately stops executing the remaining code inside the try block and jumps to the appropriate except block to handle the error.\n",
        "If no exception occurs, the program continues execution after the try block, skipping the except block entirely.\n",
        "Example of try block:\n",
        "\n",
        "python\n",
        "Copy\n",
        "try:\n",
        "    # Code that may cause an exception\n",
        "    num = int(input(\"Enter a number: \"))  # ValueError if input is not a valid integer\n",
        "    result = 10 / num  # ZeroDivisionError if num is zero\n",
        "2. except Block:\n",
        "The except block is used to catch and handle exceptions raised inside the try block.\n",
        "The except block specifies the type of exception it handles (e.g., ValueError, ZeroDivisionError, etc.). If the exception type matches the one raised in the try block, Python will execute the code in the corresponding except block.\n",
        "You can have multiple except blocks to handle different types of exceptions, and you can even use a general except block to handle any exception.\n",
        "If no exception occurs in the try block, the except block is skipped.\n",
        "Example of except block:\n",
        "\n",
        "python\n",
        "Copy\n",
        "try:\n",
        "    num = int(input(\"Enter a number: \"))\n",
        "    result = 10 / num\n",
        "except ValueError:\n",
        "    print(\"Invalid input! Please enter an integer.\")\n",
        "except ZeroDivisionError:\n",
        "    print(\"Cannot divide by zero!\")\n"
      ],
      "metadata": {
        "id": "yH91iqWdMck-"
      }
    },
    {
      "cell_type": "code",
      "source": [],
      "metadata": {
        "id": "vgOdKO_AMnFl"
      },
      "execution_count": null,
      "outputs": []
    },
    {
      "cell_type": "markdown",
      "source": [
        "15. How does Python's garbage collection system work?\n",
        "\n",
        "Ans-1. Reference Counting\n",
        "Reference counting is the primary mechanism Python uses for memory management. Every object in Python has an associated reference count, which tracks how many references point to that object.\n",
        "Whenever a new reference to an object is made, the reference count increases by 1. When a reference is deleted or goes out of scope, the reference count decreases by 1.\n",
        "When an object's reference count drops to zero (i.e., no references to the object exist), Python automatically deallocates the memory associated with that object.\n",
        "Example:\n",
        "\n",
        "python\n",
        "Copy\n",
        "a = []  # Reference count for the list object becomes 1\n",
        "b = a    # Reference count becomes 2\n",
        "del a    # Reference count becomes 1\n",
        "del b    # Reference count becomes 0, and the memory is freed\n",
        "The key point here is that Python uses reference counting to automatically free memory when objects are no longer in use. However, reference counting alone cannot handle cyclic references, which is where Python’s cyclic garbage collection comes into play.\n",
        "2. Cyclic Garbage Collection\n",
        "Cyclic garbage collection is a secondary mechanism that Python uses to clean up objects involved in cyclic references, where two or more objects reference each other, forming a cycle.\n",
        "Cyclic references cannot be detected by reference counting alone because the reference counts of objects in a cycle will never reach zero, as they still reference each other.\n",
        "To address this, Python uses a garbage collector (GC) that identifies and cleans up objects involved in cyclic references.\n",
        "For example, in the following code:\n",
        "\n",
        "python\n",
        "Copy\n",
        "class Node:\n",
        "    def __init__(self, value):\n",
        "        self.value = value\n",
        "        self.next = None\n",
        "\n",
        "# Create a cycle\n",
        "node1 = Node(1)\n",
        "node2 = Node(2)\n",
        "node1.next = node2\n",
        "node2.next = node1  # Cyclic reference between node1 and node2\n",
        "node1 and node2 form a cycle. Even if these objects go out of scope, their reference counts will not drop to zero, so they would not be collected using reference counting alone.\n",
        "Python's garbage collector identifies such cycles and breaks them by deleting objects that are no longer reachable but still reference each other.\n",
        "3. Generational Garbage Collection\n",
        "Python’s garbage collector uses a generational approach to improve efficiency. It divides objects into three generations based on how long they have been alive:\n",
        "Generation 0: Newly created objects.\n",
        "Generation 1: Objects that have survived one garbage collection cycle.\n",
        "Generation 2: Older objects that have survived multiple garbage collection cycles.\n",
        "The idea behind generational collection is that younger objects (those that have just been created) are more likely to become unreachable quickly, whereas older objects tend to be more stable and less likely to be garbage collected.\n",
        "The garbage collector performs collections more frequently on younger generations and less frequently on older generations, improving performance.\n",
        "4. How Garbage Collection Works in Practice\n",
        "Thresholds and Triggers: The garbage collector is triggered when the number of allocations and deallocations of objects exceeds certain thresholds. These thresholds are adjustable, and Python automatically manages them for most use cases.\n",
        "The garbage collector runs in the background to reclaim memory from objects that are no longer accessible, especially those involved in cyclic references.\n",
        "You can manually trigger garbage collection using the gc module or check how many objects are currently being tracked.\n",
        "5. The gc Module\n",
        "Python provides the gc module to interact with the garbage collector, allowing you to control and inspect garbage collection. You can:\n",
        "\n",
        "Enable or disable the garbage collector.\n",
        "Manually trigger garbage collection cycles.\n",
        "Inspect the number of objects currently being tracked and collected.\n",
        "Example of using the gc module:\n",
        "\n",
        "python\n",
        "Copy\n",
        "import gc\n",
        "\n",
        "# Disable automatic garbage collection\n",
        "gc.disable()\n",
        "\n",
        "# Enable garbage collection\n",
        "gc.enable()\n",
        "\n",
        "# Manually run a garbage collection cycle\n",
        "gc.collect()\n",
        "\n",
        "# Get the number of objects tracked by the garbage collector\n",
        "print(gc.get_count())"
      ],
      "metadata": {
        "id": "Tv-njullMqVT"
      }
    },
    {
      "cell_type": "code",
      "source": [],
      "metadata": {
        "id": "grk6eEK-M5hf"
      },
      "execution_count": null,
      "outputs": []
    },
    {
      "cell_type": "markdown",
      "source": [
        "16.What is the purpose of the else block in exception handling?\n",
        "\n",
        "Ans- Purpose of the else Block:\n",
        "Runs when no exception occurs:\n",
        "\n",
        "The else block will execute only if the code in the try block completes successfully (i.e., no exception is raised).\n",
        "If an exception occurs in the try block, the except block is executed, and the else block is skipped.\n",
        "Keeps the code clean and organized:\n",
        "\n",
        "By using the else block, you can separate the normal code flow from the error-handling code, making the program easier to read and maintain.\n",
        "This helps avoid nesting the normal code inside the try block, which can become cluttered if both normal operations and exception handling are mixed.\n",
        "Indicates that an exception-free path is possible:\n",
        "\n",
        "The else block signifies that the operations inside the try block have successfully completed without issues, so any additional actions that depend on success (such as logging, further calculations, or outputting results) can be placed there."
      ],
      "metadata": {
        "id": "O8uZItEjM6Be"
      }
    },
    {
      "cell_type": "code",
      "source": [],
      "metadata": {
        "id": "oJGYOEmHNHHu"
      },
      "execution_count": null,
      "outputs": []
    },
    {
      "cell_type": "markdown",
      "source": [
        "17.What are the common logging levels in Python?\n",
        "\n",
        "Ans- 1. DEBUG (Level 10)\n",
        "     2.INFO (Level 20)\n",
        "     3.WARNING (Level 30)\n",
        "     4.ERROR (Level 40)\n",
        "     5.CRITICAL (Level 50)"
      ],
      "metadata": {
        "id": "-kpgux8ANHlA"
      }
    },
    {
      "cell_type": "code",
      "source": [],
      "metadata": {
        "id": "kkoWbbTUN2x6"
      },
      "execution_count": null,
      "outputs": []
    },
    {
      "cell_type": "markdown",
      "source": [
        "18. What is the difference between os.fork() and multiprocessing in Python?\n",
        "\n",
        "Ans-. os.fork():\n",
        "Platform: os.fork() is available only on Unix-based systems (e.g., Linux, macOS). It does not work on Windows.\n",
        "Functionality:\n",
        "os.fork() creates a new process by duplicating the calling process.\n",
        "The newly created process (child process) is a copy of the parent process, and it starts executing from the point where fork() was called.\n",
        "After calling os.fork(), the parent process and the child process will continue running independently, but the parent process receives the process ID of the child process, and the child process receives 0.\n",
        "Concurrency Model: os.fork() uses OS-level process forking, which means that both the parent and child processes run concurrently and share the same code, but they have separate memory spaces.\n",
        "Use Case:\n",
        "os.fork() is typically used for low-level process management, where you want to explicitly create and manage separate processes in a Unix-like operating system.\n",
        "It is commonly used in system programming and in scenarios where you need to manage child processes explicitly.\n",
        "Example using os.fork():\n",
        "\n",
        "python\n",
        "Copy\n",
        "import os\n",
        "\n",
        "pid = os.fork()\n",
        "\n",
        "if pid > 0:\n",
        "    # Parent process\n",
        "    print(f\"Parent process, child PID: {pid}\")\n",
        "else:\n",
        "    # Child process\n",
        "    print(\"Child process\")\n",
        "2. multiprocessing Module:\n",
        "Platform: The multiprocessing module works on all major platforms, including Windows, Linux, and macOS.\n",
        "Functionality:\n",
        "The multiprocessing module provides a high-level interface to create and manage separate processes, including support for process pools, inter-process communication (IPC), synchronization, and more.\n",
        "It abstracts the underlying OS-specific process management mechanisms (like fork() on Unix or CreateProcess() on Windows) and provides a cross-platform way to create and manage processes.\n",
        "Processes created with the multiprocessing module have their own memory space, so data sharing between processes needs to be explicitly managed through Queue, Pipe, or shared memory.\n",
        "Concurrency Model: Like os.fork(), processes created via multiprocessing run concurrently, but it provides more features like process pools for managing multiple processes easily and built-in synchronization primitives (e.g., locks, events).\n",
        "Use Case:\n",
        "The multiprocessing module is ideal when you need to perform concurrent or parallel execution of tasks across multiple processes, especially when you want a high-level, cross-platform solution.\n",
        "It is commonly used in parallel programming for tasks like CPU-bound operations (e.g., heavy computation) and when you need to bypass Python's Global Interpreter Lock (GIL).\n",
        "Example using multiprocessing:\n",
        "\n",
        "python\n",
        "Copy\n",
        "import multiprocessing\n",
        "\n",
        "def worker_function():\n",
        "    print(\"Worker process\")\n",
        "\n",
        "if __name__ == \"__main__\":\n",
        "    process = multiprocessing.Process(target=worker_function)\n",
        "    process.start()\n",
        "    process.join()  # Wait for the process to finish\n",
        "\n"
      ],
      "metadata": {
        "id": "Weog8rQFN3IS"
      }
    },
    {
      "cell_type": "code",
      "source": [],
      "metadata": {
        "id": "h825hxLCONZ1"
      },
      "execution_count": null,
      "outputs": []
    },
    {
      "cell_type": "markdown",
      "source": [
        "19.What is the importance of closing a file in Python?\n",
        "\n",
        "Ans-1. Releases System Resources\n",
        "When a file is opened, the operating system allocates resources (e.g., memory, file handles, file descriptors) to manage the open file.\n",
        "If a file is not closed, these resources may remain allocated and unavailable for other processes or files, which can lead to system resource leaks.\n",
        "If you open too many files and forget to close them, your program may run out of resources, leading to errors like Too many open files.\n",
        "2. Ensures Data Integrity\n",
        "When you write data to a file, it's not always immediately written to disk. Python uses a buffering mechanism to optimize performance when writing to files.\n",
        "If you don't close the file, the buffered data might not be flushed to the file, meaning that the written data could be lost.\n",
        "Closing the file ensures that all the data is properly flushed from memory to the disk, guaranteeing that the file contents are correctly written and saved.\n",
        "3. Prevents File Corruption\n",
        "When a file is opened in write mode, the operating system manages the file’s locks and ensures that no other processes interfere with it.\n",
        "If the file is not closed properly, it could result in file corruption, especially if there are system crashes or if the file is still in use by your program when the program ends.\n",
        "Closing the file ensures that all operations on the file are complete and that no processes are left hanging.\n",
        "4. Improves Performance\n",
        "Properly closing a file allows the operating system to release file handles and other resources, which can improve overall system performance.\n",
        "When file handles are released, it reduces the chances of running into file descriptor limits, which could slow down the program.\n",
        "5. Avoids Memory Leaks\n",
        "Each open file consumes memory resources. If files are not closed, it can result in memory leaks over time, especially in long-running programs or loops that open multiple files.\n",
        "Closing the file immediately after you're done with it prevents memory from being unnecessarily consumed."
      ],
      "metadata": {
        "id": "dI_YBsxFON48"
      }
    },
    {
      "cell_type": "code",
      "source": [],
      "metadata": {
        "id": "d2cGzyIWOcb9"
      },
      "execution_count": null,
      "outputs": []
    },
    {
      "cell_type": "markdown",
      "source": [
        "20.What is the difference between file.read() and file.readline() in Python?\n",
        "\n",
        "Ans-1. file.read():\n",
        "Function: Reads the entire content of the file at once.\n",
        "Return Value: Returns a single string containing all the content of the file, including newline characters (\\n).\n",
        "How It Works:\n",
        "When you call file.read(), it reads the entire file from the current file pointer position to the end of the file.\n",
        "The file pointer is moved to the end of the file after reading.\n",
        "If the file is large, it might consume a lot of memory because the entire content is loaded into memory at once.\n",
        "Use Case: Useful when you need to read the entire content of the file and don't need to process it line by line.\n",
        "Example of file.read():\n",
        "\n",
        "python\n",
        "Copy\n",
        "with open('example.txt', 'r') as file:\n",
        "    content = file.read()\n",
        "    print(content)\n",
        "In this example, the content will contain the entire file content as a string.\n",
        "\n",
        "2. file.readline():\n",
        "Function: Reads one line from the file at a time.\n",
        "Return Value: Returns a single line (including the newline character \\n at the end of the line).\n",
        "How It Works:\n",
        "Each time you call file.readline(), it reads the next line in the file and moves the file pointer to the next line.\n",
        "You can keep calling file.readline() in a loop to read the entire file line by line.\n",
        "It allows you to read large files line by line without loading the entire file into memory.\n",
        "Use Case: Ideal when you need to process a file line by line, such as when reading large files or when performing line-by-line analysis.\n",
        "Example of file.readline():\n",
        "\n",
        "python\n",
        "Copy\n",
        "with open('example.txt', 'r') as file:\n",
        "    line = file.readline()\n",
        "    while line:\n",
        "        print(line, end='')  # The `end=''` prevents adding an extra newline since `readline()` includes it\n",
        "        line = file.readline()"
      ],
      "metadata": {
        "id": "zzSsOgLYOc22"
      }
    },
    {
      "cell_type": "code",
      "source": [],
      "metadata": {
        "id": "4lWdU9c0OrBs"
      },
      "execution_count": null,
      "outputs": []
    },
    {
      "cell_type": "markdown",
      "source": [
        "21.What is the logging module in Python used for?\n",
        "\n",
        "Ans-The logging module in Python is used for generating and managing log messages in your applications. It provides a flexible framework for logging messages from your code, which helps with tracking events, debugging, monitoring, and auditing. The logging module can log messages at different levels of severity (e.g., DEBUG, INFO, WARNING, ERROR, CRITICAL), and it allows for output to various destinations (e.g., console, files, external systems)."
      ],
      "metadata": {
        "id": "ti1khMkdOrj6"
      }
    },
    {
      "cell_type": "code",
      "source": [],
      "metadata": {
        "id": "wValU3BdO4qA"
      },
      "execution_count": null,
      "outputs": []
    },
    {
      "cell_type": "markdown",
      "source": [
        "22.What is the os module in Python used for in file handling?\n",
        "\n",
        "Ans-The os module in Python provides a collection of functions to interact with the operating system, and it is widely used for various tasks related to file handling and directory management. The os module allows you to manipulate files and directories in a platform-independent way, making it easier to handle file paths, create and delete files, check file existence, and more."
      ],
      "metadata": {
        "id": "b-998GXSO5IO"
      }
    },
    {
      "cell_type": "code",
      "source": [],
      "metadata": {
        "id": "nRG7Aj9hPFOT"
      },
      "execution_count": null,
      "outputs": []
    },
    {
      "cell_type": "markdown",
      "source": [
        "23. What are the challenges associated with memory management in Python?\n",
        "\n",
        "Ans-Memory management in Python, although highly efficient due to its automatic garbage collection and memory management mechanisms, still faces several challenges. These challenges can impact performance, resource usage, and the overall behavior of applications, especially in long-running programs or systems with limited resources.\n",
        "\n",
        "1. Garbage Collection and Cyclic References\n",
        "2. Memory Fragmentation\n",
        "3. Overhead of Dynamic Typing\n",
        "4. High Memory Consumption of Small Objects\n",
        "5. Memory Leaks"
      ],
      "metadata": {
        "id": "4lYThfqoPF_1"
      }
    },
    {
      "cell_type": "code",
      "source": [],
      "metadata": {
        "id": "8IyFGlVhPw2b"
      },
      "execution_count": null,
      "outputs": []
    },
    {
      "cell_type": "markdown",
      "source": [
        "24.How do you raise an exception manually in Python?\n",
        "\n",
        "Ans-In Python, you can manually raise an exception using the raise keyword. This allows you to trigger an exception intentionally when certain conditions in your program are met, which can be useful for handling errors, validating inputs, or enforcing constraints in your code.\n",
        "\n",
        "Syntax:\n",
        "python\n",
        "Copy\n",
        "raise ExceptionType(\"Error message\")\n",
        "ExceptionType: The type of the exception you want to raise. You can use built-in exceptions (like ValueError, TypeError, etc.) or define your own custom exception classes.\n",
        "\"Error message\": A message that describes the error, which can be useful for debugging.\n",
        "Example 1: Raising a built-in exception (ValueError)\n",
        "python\n",
        "Copy\n",
        "x = -5\n",
        "\n",
        "if x < 0:\n",
        "    raise ValueError(\"x cannot be negative!\")\n",
        "Example 2: Raising a custom exception\n",
        "You can also create your own custom exceptions by subclassing the built-in Exception class. This can make your error handling more specific and tailored to your program's needs.\n",
        "\n",
        "python\n",
        "Copy\n",
        "class NegativeNumberError(Exception):\n",
        "    pass\n",
        "\n",
        "x = -5\n",
        "\n",
        "if x < 0:\n",
        "    raise NegativeNumberError(\"Negative numbers are not allowed!\")\n",
        "Example 3: Raising an exception without a specific type\n",
        "You can raise a generic exception without specifying a particular type, though it's generally better practice to use more specific exceptions.\n",
        "\n",
        "python\n",
        "Copy\n",
        "raise Exception(\"Something went wrong!\")\n",
        "Example 4: Raising an exception with a custom message\n",
        "python\n",
        "Copy\n",
        "user_input = \"\"\n",
        "\n",
        "if not user_input:\n",
        "    raise ValueError(\"Input cannot be empty!\")\n",
        "Example 5: Re-raising an exception\n",
        "If you catch an exception and want to raise it again (perhaps after doing some logging or handling), you can use raise without specifying an exception type:\n",
        "\n",
        "python\n",
        "Copy\n",
        "try:\n",
        "    x = 10 / 0\n",
        "except ZeroDivisionError as e:\n",
        "    print(\"Handling the error:\", e)\n",
        "    raise  # Re-raises the same exception\n"
      ],
      "metadata": {
        "id": "8iM2PxRDPxbU"
      }
    },
    {
      "cell_type": "code",
      "source": [],
      "metadata": {
        "id": "MDMTjdCsQB9c"
      },
      "execution_count": null,
      "outputs": []
    },
    {
      "cell_type": "markdown",
      "source": [
        "25. Why is it important to use multithreading in certain applications?\n",
        "\n",
        "Ans-Multithreading is important in certain applications because it allows for more efficient use of system resources, particularly when dealing with tasks that are IO-bound (such as reading from files, network communication, or waiting for user input) or concurrent tasks that can be executed independently of each other.\n",
        "\n",
        "1. Improving Performance with Concurrent Tasks\n",
        "2. Handling IO-bound Operations Efficiently\n",
        "3. Improved Responsiveness in User Interfaces\n",
        "4. Better Resource Utilization\n",
        "5. Asynchronous Tasks and Scalability"
      ],
      "metadata": {
        "id": "AC1MsIK0QCkB"
      }
    },
    {
      "cell_type": "code",
      "source": [],
      "metadata": {
        "id": "MbTaWks9Qm7S"
      },
      "execution_count": null,
      "outputs": []
    },
    {
      "cell_type": "markdown",
      "source": [
        "Practical Questions"
      ],
      "metadata": {
        "id": "JqL8V0UHQsJv"
      }
    },
    {
      "cell_type": "markdown",
      "source": [],
      "metadata": {
        "id": "Bg0bye0LQ4o3"
      }
    },
    {
      "cell_type": "code",
      "source": [
        "#1. How can you open a file for writing in Python and write a string to it?\n",
        "\n",
        "Ans-Use open(): This function is used to open a file. The first argument is the file path, and the second argument is the mode (e.g., 'w' for writing, 'a' for appending, etc.).\n",
        "\n",
        "'w': Opens the file for writing (creates the file if it doesn't exist and truncates the file if it exists).\n",
        "'a': Opens the file for appending (creates the file if it doesn't exist and appends to the file if it exists).\n",
        "Write the String: Once the file is opened in write mode, you can use the write() method to write a string to the file.\n",
        "\n",
        "Close the File: Always close the file after you are done writing to it to ensure that all data is flushed to disk and that the file is properly closed.\n",
        "\n",
        "Example 1: Opening a File and Writing a String\n",
        "python\n",
        "Copy\n",
        "# Open the file in write mode ('w')\n",
        "with open('example.txt', 'w') as file:\n",
        "    # Write a string to the file\n",
        "    file.write(\"Hello, World!\")\n",
        "'example.txt': This is the file path where the string will be written.\n",
        "'w': This mode means the file is opened for writing. If the file already exists, it will be overwritten; if it doesn’t exist, it will be created.\n",
        "file.write(\"Hello, World!\"): This writes the string \"Hello, World!\" to the file.\n",
        "Why Use with Statement?\n",
        "Using the with statement ensures that the file is automatically closed when the block is exited, even if an error occurs. This is a more efficient and cleaner way to handle file operations in Python.\n",
        "\n",
        "Example 2: Writing Multiple Lines\n",
        "If you need to write multiple lines to a file, you can use the writelines() method or multiple calls to write():\n",
        "\n",
        "python\n",
        "Copy\n",
        "# Open the file in write mode ('w')\n",
        "with open('example.txt', 'w') as file:\n",
        "    # Write multiple lines\n",
        "    lines = [\"Line 1\\n\", \"Line 2\\n\", \"Line 3\\n\"]\n",
        "    file.writelines(lines)\n",
        "Explanation:\n",
        "writelines(): This method writes a list of strings to the file. Notice that you need to include newline characters (\\n) manually if you want each line to appear on a new line.\n",
        "Example 3: Opening a File in Append Mode\n",
        "If you want to add content to the end of an existing file without overwriting it, you can open the file in append mode ('a'):\n",
        "\n",
        "python\n",
        "Copy\n",
        "# Open the file in append mode ('a')\n",
        "with open('example.txt', 'a') as file:\n",
        "    # Append a string to the file\n",
        "    file.write(\"\\nThis is a new line!\")\n",
        "'a': This mode opens the file for appending. If the file doesn’t exist, it will be created. If it does exist, the new content will be added at the end without overwriting existing content.\n"
      ],
      "metadata": {
        "colab": {
          "base_uri": "https://localhost:8080/",
          "height": 106
        },
        "id": "VogHNczvQthl",
        "outputId": "47d5e833-1fb3-4fc4-e5bf-588427241b5e"
      },
      "execution_count": 1,
      "outputs": [
        {
          "output_type": "error",
          "ename": "SyntaxError",
          "evalue": "unterminated string literal (detected at line 5) (<ipython-input-1-b348a74e1ce7>, line 5)",
          "traceback": [
            "\u001b[0;36m  File \u001b[0;32m\"<ipython-input-1-b348a74e1ce7>\"\u001b[0;36m, line \u001b[0;32m5\u001b[0m\n\u001b[0;31m    'w': Opens the file for writing (creates the file if it doesn't exist and truncates the file if it exists).\u001b[0m\n\u001b[0m                                                                 ^\u001b[0m\n\u001b[0;31mSyntaxError\u001b[0m\u001b[0;31m:\u001b[0m unterminated string literal (detected at line 5)\n"
          ]
        }
      ]
    },
    {
      "cell_type": "code",
      "source": [
        "#2.Write a Python program to read the contents of a file and print each line.\n",
        "\n",
        "Ans-Python Program to Read and Print Each Line of a File:\n",
        "python\n",
        "Copy\n",
        "# Open the file in read mode ('r')\n",
        "with open('example.txt', 'r') as file:\n",
        "    # Iterate over each line in the file\n",
        "    for line in file:\n",
        "        # Print each line (end='' prevents adding extra newlines)\n",
        "        print(line, end='')"
      ],
      "metadata": {
        "colab": {
          "base_uri": "https://localhost:8080/",
          "height": 106
        },
        "id": "wJrhQQy4REHC",
        "outputId": "dc81f081-0a9a-439b-aedd-ebac2f7aa373"
      },
      "execution_count": 2,
      "outputs": [
        {
          "output_type": "error",
          "ename": "SyntaxError",
          "evalue": "invalid syntax (<ipython-input-2-6156f5ad1fdd>, line 3)",
          "traceback": [
            "\u001b[0;36m  File \u001b[0;32m\"<ipython-input-2-6156f5ad1fdd>\"\u001b[0;36m, line \u001b[0;32m3\u001b[0m\n\u001b[0;31m    Ans-Python Program to Read and Print Each Line of a File:\u001b[0m\n\u001b[0m               ^\u001b[0m\n\u001b[0;31mSyntaxError\u001b[0m\u001b[0;31m:\u001b[0m invalid syntax\n"
          ]
        }
      ]
    },
    {
      "cell_type": "code",
      "source": [
        "#3.How would you handle a case where the file doesn't exist while trying to open it for reading?\n",
        "\n",
        "Ans-When trying to open a file for reading, if the file doesn't exist, Python will raise a FileNotFoundError. To handle this case gracefully, you can use exception handling with try and except blocks.\n",
        "\n",
        "Example 1: Handling FileNotFoundError\n",
        "python\n",
        "Copy\n",
        "try:\n",
        "    # Try to open the file for reading\n",
        "    with open('example.txt', 'r') as file:\n",
        "        # Read and print the contents of the file\n",
        "        for line in file:\n",
        "            print(line, end='')\n",
        "except FileNotFoundError:\n",
        "    # Handle the case where the file doesn't exist\n",
        "    print(\"Error: The file 'example.txt' does not exist.\")\n",
        "Explanation:\n",
        "try block: We attempt to open the file using the open() function. If the file exists, the contents will be read and printed.\n",
        "except FileNotFoundError: If the file doesn't exist, Python raises a FileNotFoundError, and the code inside the except block will execute. In this case, it prints an error message indicating that the file is missing.\n",
        "Example 2: Handling Multiple Exceptions\n",
        "You might want to handle other potential exceptions as well, such as permission errors. Here's an extended version:\n",
        "\n",
        "python\n",
        "Copy\n",
        "try:\n",
        "    # Try to open the file for reading\n",
        "    with open('example.txt', 'r') as file:\n",
        "        # Read and print the contents of the file\n",
        "        for line in file:\n",
        "            print(line, end='')\n",
        "except FileNotFoundError:\n",
        "    # Handle the case where the file doesn't exist\n",
        "    print(\"Error: The file 'example.txt' does not exist.\")\n",
        "except PermissionError:\n",
        "    # Handle the case where there's a permission error\n",
        "    print(\"Error: You do not have permission to read the file.\")\n",
        "except Exception as e:\n",
        "    # Handle any other unforeseen errors\n",
        "    print(f\"An unexpected error occurred: {e}\")"
      ],
      "metadata": {
        "colab": {
          "base_uri": "https://localhost:8080/",
          "height": 124
        },
        "id": "5_mRPYXuRQOc",
        "outputId": "27b80c65-a88f-49b3-d52b-c6ea41d408f7"
      },
      "execution_count": 3,
      "outputs": [
        {
          "output_type": "error",
          "ename": "SyntaxError",
          "evalue": "unterminated string literal (detected at line 3) (<ipython-input-3-cc96aae000fb>, line 3)",
          "traceback": [
            "\u001b[0;36m  File \u001b[0;32m\"<ipython-input-3-cc96aae000fb>\"\u001b[0;36m, line \u001b[0;32m3\u001b[0m\n\u001b[0;31m    Ans-When trying to open a file for reading, if the file doesn't exist, Python will raise a FileNotFoundError. To handle this case gracefully, you can use exception handling with try and except blocks.\u001b[0m\n\u001b[0m                                                                 ^\u001b[0m\n\u001b[0;31mSyntaxError\u001b[0m\u001b[0;31m:\u001b[0m unterminated string literal (detected at line 3)\n"
          ]
        }
      ]
    },
    {
      "cell_type": "code",
      "source": [
        "#4.Write a Python script that reads from one file and writes its content to another file.\n",
        "\n",
        "Ans-Python Script to Read from One File and Write to Another:\n",
        "python\n",
        "Copy\n",
        "try:\n",
        "    # Open the source file in read mode ('r')\n",
        "    with open('source.txt', 'r') as source_file:\n",
        "        # Read the content of the source file\n",
        "        content = source_file.read()\n",
        "\n",
        "    # Open the destination file in write mode ('w')\n",
        "    with open('destination.txt', 'w') as destination_file:\n",
        "        # Write the content to the destination file\n",
        "        destination_file.write(content)\n",
        "\n",
        "    print(\"Content has been successfully copied from 'source.txt' to 'destination.txt'.\")\n",
        "\n",
        "except FileNotFoundError:\n",
        "    print(\"Error: The source file 'source.txt' does not exist.\")\n",
        "except PermissionError:\n",
        "    print(\"Error: You do not have permission to read or write the files.\")\n",
        "except Exception as e:\n",
        "    print(f\"An unexpected error occurred: {e}\")\n"
      ],
      "metadata": {
        "colab": {
          "base_uri": "https://localhost:8080/",
          "height": 106
        },
        "id": "7L94D2k3RqHX",
        "outputId": "cc24df21-3b4a-48a0-a922-e6ce6ad24e9a"
      },
      "execution_count": 4,
      "outputs": [
        {
          "output_type": "error",
          "ename": "SyntaxError",
          "evalue": "invalid syntax (<ipython-input-4-14cc595915d3>, line 3)",
          "traceback": [
            "\u001b[0;36m  File \u001b[0;32m\"<ipython-input-4-14cc595915d3>\"\u001b[0;36m, line \u001b[0;32m3\u001b[0m\n\u001b[0;31m    Ans-Python Script to Read from One File and Write to Another:\u001b[0m\n\u001b[0m               ^\u001b[0m\n\u001b[0;31mSyntaxError\u001b[0m\u001b[0;31m:\u001b[0m invalid syntax\n"
          ]
        }
      ]
    },
    {
      "cell_type": "code",
      "source": [
        "#5.How would you catch and handle division by zero error in Python.\n",
        "\n",
        "Ans-In Python, a division by zero error is raised as a ZeroDivisionError. You can catch and handle this error using a try and except block to prevent your program from crashing and provide a meaningful message or alternative action.\n",
        "\n",
        "Example: Handling a Division by Zero Error\n",
        "python\n",
        "Copy\n",
        "try:\n",
        "    # Try to perform division\n",
        "    numerator = 10\n",
        "    denominator = 0\n",
        "    result = numerator / denominator\n",
        "    print(f\"The result is {result}\")\n",
        "except ZeroDivisionError:\n",
        "    # Handle the division by zero error\n",
        "    print(\"Error: Division by zero is not allowed!\")\n"
      ],
      "metadata": {
        "colab": {
          "base_uri": "https://localhost:8080/",
          "height": 124
        },
        "id": "GOKBmZQIR5yx",
        "outputId": "5f4d6e42-731e-42bc-87c6-69205aca19ff"
      },
      "execution_count": 5,
      "outputs": [
        {
          "output_type": "error",
          "ename": "SyntaxError",
          "evalue": "invalid syntax (<ipython-input-5-e36a5bf475d6>, line 3)",
          "traceback": [
            "\u001b[0;36m  File \u001b[0;32m\"<ipython-input-5-e36a5bf475d6>\"\u001b[0;36m, line \u001b[0;32m3\u001b[0m\n\u001b[0;31m    Ans-In Python, a division by zero error is raised as a ZeroDivisionError. You can catch and handle this error using a try and except block to prevent your program from crashing and provide a meaningful message or alternative action.\u001b[0m\n\u001b[0m           ^\u001b[0m\n\u001b[0;31mSyntaxError\u001b[0m\u001b[0;31m:\u001b[0m invalid syntax\n"
          ]
        }
      ]
    },
    {
      "cell_type": "code",
      "source": [
        "#6.Write a Python program that logs an error message to a log file when a division by zero exception occurs.\n",
        "\n",
        "Ans-import logging\n",
        "\n",
        "# Configure the logging\n",
        "logging.basicConfig(filename='error_log.txt',\n",
        "                    level=logging.ERROR,\n",
        "                    format='%(asctime)s - %(levelname)s - %(message)s')\n",
        "\n",
        "try:\n",
        "    # Perform division operation\n",
        "    numerator = 10\n",
        "    denominator = 0\n",
        "    result = numerator / denominator\n",
        "    print(f\"The result is {result}\")\n",
        "\n",
        "except ZeroDivisionError as e:\n",
        "    # Log the error message\n",
        "    logging.error(f\"Error: Division by zero occurred! {e}\")\n",
        "    print(\"An error occurred. Please check the log file for details.\")\n"
      ],
      "metadata": {
        "colab": {
          "base_uri": "https://localhost:8080/",
          "height": 106
        },
        "id": "vyEF3W13SLWp",
        "outputId": "4ccda8b1-806a-48f6-ca8d-5aafccdf4f87"
      },
      "execution_count": 6,
      "outputs": [
        {
          "output_type": "error",
          "ename": "SyntaxError",
          "evalue": "invalid syntax (<ipython-input-6-d18964c8af83>, line 3)",
          "traceback": [
            "\u001b[0;36m  File \u001b[0;32m\"<ipython-input-6-d18964c8af83>\"\u001b[0;36m, line \u001b[0;32m3\u001b[0m\n\u001b[0;31m    Ans-import logging\u001b[0m\n\u001b[0m        ^\u001b[0m\n\u001b[0;31mSyntaxError\u001b[0m\u001b[0;31m:\u001b[0m invalid syntax\n"
          ]
        }
      ]
    },
    {
      "cell_type": "markdown",
      "source": [],
      "metadata": {
        "id": "7bHNMmx6SMn1"
      }
    },
    {
      "cell_type": "code",
      "source": [
        "#7. How do you log information at different levels (INFO, ERROR, WARNING) in Python using the logging module.\n",
        "\n",
        "Ans-In Python, the logging module provides several levels of logging, allowing you to capture events of different severity levels in your application. The common logging levels are:\n",
        "\n",
        "DEBUG: Detailed information, typically used for diagnosing problems.\n",
        "INFO: General information about the application's normal operation.\n",
        "WARNING: Indicates something unexpected happened, but the program can still run.\n",
        "ERROR: An error occurred, but the program can still continue.\n",
        "CRITICAL: A very serious error that may cause the program to stop running."
      ],
      "metadata": {
        "colab": {
          "base_uri": "https://localhost:8080/",
          "height": 106
        },
        "id": "E7snOzQmSfmt",
        "outputId": "975a91b4-9aaf-4758-c435-2151c7ffa2d1"
      },
      "execution_count": 7,
      "outputs": [
        {
          "output_type": "error",
          "ename": "SyntaxError",
          "evalue": "unterminated string literal (detected at line 6) (<ipython-input-7-b0c657ef27ee>, line 6)",
          "traceback": [
            "\u001b[0;36m  File \u001b[0;32m\"<ipython-input-7-b0c657ef27ee>\"\u001b[0;36m, line \u001b[0;32m6\u001b[0m\n\u001b[0;31m    INFO: General information about the application's normal operation.\u001b[0m\n\u001b[0m                                                   ^\u001b[0m\n\u001b[0;31mSyntaxError\u001b[0m\u001b[0;31m:\u001b[0m unterminated string literal (detected at line 6)\n"
          ]
        }
      ]
    },
    {
      "cell_type": "code",
      "source": [
        "#8.Write a program to handle a file opening error using exception handling.\n",
        "\n",
        "Ans-try:\n",
        "    # Attempt to open the file for reading\n",
        "    with open('example.txt', 'r') as file:\n",
        "        # Read the contents of the file\n",
        "        content = file.read()\n",
        "        print(content)\n",
        "\n",
        "except FileNotFoundError:\n",
        "    # Handle the case where the file does not exist\n",
        "    print(\"Error: The file 'example.txt' does not exist.\")\n",
        "\n",
        "except PermissionError:\n",
        "    # Handle the case where there is a permission error\n",
        "    print(\"Error: You do not have permission to open 'example.txt'.\")\n",
        "\n",
        "except Exception as e:\n",
        "    # Catch any other exceptions and print the error message\n",
        "    print(f\"An unexpected error occurred: {e}\")"
      ],
      "metadata": {
        "colab": {
          "base_uri": "https://localhost:8080/",
          "height": 106
        },
        "id": "1zvx_T1USyha",
        "outputId": "63f1fa4e-238b-4885-9da5-ff90a53c59f5"
      },
      "execution_count": 8,
      "outputs": [
        {
          "output_type": "error",
          "ename": "SyntaxError",
          "evalue": "invalid syntax (<ipython-input-8-211afa13c437>, line 3)",
          "traceback": [
            "\u001b[0;36m  File \u001b[0;32m\"<ipython-input-8-211afa13c437>\"\u001b[0;36m, line \u001b[0;32m3\u001b[0m\n\u001b[0;31m    Ans-try:\u001b[0m\n\u001b[0m        ^\u001b[0m\n\u001b[0;31mSyntaxError\u001b[0m\u001b[0;31m:\u001b[0m invalid syntax\n"
          ]
        }
      ]
    },
    {
      "cell_type": "code",
      "source": [
        "#9.How can you read a file line by line and store its content in a list in Python?\n",
        "\n",
        "Ans-In Python, you can read a file line by line and store its contents in a list using the readlines() method or by iterating through the file object itself. Both approaches are efficient and commonly used.\n",
        "\n",
        "Example 1: Using readlines() to Read Line by Line into a List\n",
        "python\n",
        "Copy\n",
        "# Open the file for reading\n",
        "with open('example.txt', 'r') as file:\n",
        "    # Read all lines and store them in a list\n",
        "    lines = file.readlines()\n",
        "\n",
        "# Print the list of lines\n",
        "print(lines)\n",
        "Explanation:\n",
        "open('example.txt', 'r'): Opens the file 'example.txt' in read mode ('r').\n",
        "file.readlines(): Reads all the lines from the file and stores them in a list. Each element in the list will correspond to one line in the file, including the newline character (\\n).\n",
        "with statement: Ensures that the file is properly closed after reading, even if an error occurs.\n",
        "Example 2: Using a for Loop to Read Line by Line and Store in a List\n",
        "python\n",
        "Copy\n",
        "# Initialize an empty list to store lines\n",
        "lines = []\n",
        "\n",
        "# Open the file for reading\n",
        "with open('example.txt', 'r') as file:\n",
        "    # Iterate through the file line by line\n",
        "    for line in file:\n",
        "        # Remove the newline character and add the line to the list\n",
        "        lines.append(line.strip())\n",
        "\n",
        "# Print the list of lines\n",
        "print(lines)\n",
        "Explanation:\n",
        "for line in file: Iterates through the file object line by line.\n",
        "line.strip(): Removes any leading or trailing whitespace, including the newline character (\\n), before appending the line to the list.\n",
        "Example Output (Assume example.txt contains the following):\n",
        "csharp\n",
        "Copy\n",
        "Hello, World!\n",
        "This is a test file.\n",
        "Python is awesome!\n",
        "For Example 1 (using readlines()), the list will include the newline characters:\n",
        "\n",
        "python\n",
        "Copy\n",
        "['Hello, World!\\n', 'This is a test file.\\n', 'Python is awesome!\\n']\n",
        "For Example 2 (using strip()), the list will have clean lines without the newline characters:\n",
        "\n",
        "python\n",
        "Copy\n",
        "['Hello, World!', 'This is a test file.', 'Python is awesome!']"
      ],
      "metadata": {
        "colab": {
          "base_uri": "https://localhost:8080/",
          "height": 124
        },
        "id": "vD-VhRePTDd7",
        "outputId": "999cca35-bdd0-489f-ff3b-c0900d8dd9fe"
      },
      "execution_count": 9,
      "outputs": [
        {
          "output_type": "error",
          "ename": "SyntaxError",
          "evalue": "invalid syntax (<ipython-input-9-9185e28c5fbe>, line 3)",
          "traceback": [
            "\u001b[0;36m  File \u001b[0;32m\"<ipython-input-9-9185e28c5fbe>\"\u001b[0;36m, line \u001b[0;32m3\u001b[0m\n\u001b[0;31m    Ans-In Python, you can read a file line by line and store its contents in a list using the readlines() method or by iterating through the file object itself. Both approaches are efficient and commonly used.\u001b[0m\n\u001b[0m           ^\u001b[0m\n\u001b[0;31mSyntaxError\u001b[0m\u001b[0;31m:\u001b[0m invalid syntax\n"
          ]
        }
      ]
    },
    {
      "cell_type": "code",
      "source": [
        "#10.How can you append data to an existing file in Python?\n",
        "\n",
        "Ans-In Python, you can append data to an existing file by opening the file in append mode ('a'). When a file is opened in append mode, new data is added to the end of the file, preserving the existing content.\n",
        "\n",
        "Example 1: Appending Text to a File\n",
        "python\n",
        "Copy\n",
        "# Open the file in append mode ('a')\n",
        "with open('example.txt', 'a') as file:\n",
        "    # Append data to the file\n",
        "    file.write(\"This is a new line added to the file.\\n\")\n",
        "\n",
        "print(\"Data has been appended to the file.\")\n",
        "Explanation:\n",
        "open('example.txt', 'a'): Opens the file 'example.txt' in append mode ('a'), meaning any new data will be added to the end of the file, not overwrite its content.\n",
        "file.write(): Writes the string to the file. In this example, a new line (\"\\n\") is added after the text to ensure the appended text starts on a new line.\n",
        "with statement: Ensures that the file is properly closed after writing, even if an error occurs.\n",
        "Example 2: Appending Multiple Lines Using a Loop\n",
        "If you want to append multiple lines of data to a file, you can use a loop:\n",
        "\n",
        "python\n",
        "Copy\n",
        "# Data to append\n",
        "new_lines = [\n",
        "    \"This is the first new line.\\n\",\n",
        "    \"This is the second new line.\\n\",\n",
        "    \"This is the third new line.\\n\"\n",
        "]\n",
        "\n",
        "# Open the file in append mode ('a')\n",
        "with open('example.txt', 'a') as file:\n",
        "    # Append multiple lines\n",
        "    file.writelines(new_lines)\n",
        "\n",
        "print(\"Multiple lines have been appended to the file.\")\n",
        "Explanation:\n",
        "file.writelines(): This method is used to append multiple lines at once. Each item in the new_lines list is written as a separate line in the file."
      ],
      "metadata": {
        "colab": {
          "base_uri": "https://localhost:8080/",
          "height": 124
        },
        "id": "Wt_uIbHRTVOc",
        "outputId": "471fc5ae-a315-4897-ec42-6b7d3551ed9e"
      },
      "execution_count": 10,
      "outputs": [
        {
          "output_type": "error",
          "ename": "SyntaxError",
          "evalue": "invalid syntax (<ipython-input-10-c34e428cf2d7>, line 3)",
          "traceback": [
            "\u001b[0;36m  File \u001b[0;32m\"<ipython-input-10-c34e428cf2d7>\"\u001b[0;36m, line \u001b[0;32m3\u001b[0m\n\u001b[0;31m    Ans-In Python, you can append data to an existing file by opening the file in append mode ('a'). When a file is opened in append mode, new data is added to the end of the file, preserving the existing content.\u001b[0m\n\u001b[0m           ^\u001b[0m\n\u001b[0;31mSyntaxError\u001b[0m\u001b[0;31m:\u001b[0m invalid syntax\n"
          ]
        }
      ]
    },
    {
      "cell_type": "code",
      "source": [
        "#11.Write a Python program that uses a try-except block to handle an error when attempting to access a\n",
        "dictionary key that doesn't exist.\n",
        "\n",
        "Ans-# Sample dictionary\n",
        "my_dict = {'name': 'Alice', 'age': 25, 'city': 'New York'}\n",
        "\n",
        "try:\n",
        "    # Attempt to access a key that may or may not exist\n",
        "    key_to_access = 'job'  # This key does not exist in the dictionary\n",
        "    value = my_dict[key_to_access]\n",
        "    print(f\"The value for the key '{key_to_access}' is: {value}\")\n",
        "\n",
        "except KeyError as e:\n",
        "    # Handle the error when the key is not found\n",
        "    print(f\"Error: The key '{e.args[0]}' does not exist in the dictionary.\")"
      ],
      "metadata": {
        "id": "paeOznPETv_R"
      },
      "execution_count": null,
      "outputs": []
    },
    {
      "cell_type": "code",
      "source": [
        "#12.Write a program that demonstrates using multiple except blocks to handle different types of exceptions.\n",
        "\n",
        "Ans-def handle_exceptions():\n",
        "    try:\n",
        "        # Example 1: ValueError\n",
        "        user_input = input(\"Enter a number: \")\n",
        "        number = int(user_input)  # Will raise ValueError if input is not an integer\n",
        "\n",
        "        # Example 2: ZeroDivisionError\n",
        "        result = 10 / number  # Will raise ZeroDivisionError if number is 0\n",
        "        print(f\"10 divided by {number} is: {result}\")\n",
        "\n",
        "        # Example 3: IndexError\n",
        "        my_list = [1, 2, 3]\n",
        "        index = int(input(\"Enter an index to access the list: \"))\n",
        "        print(f\"Value at index {index} is: {my_list[index]}\")  # Will raise IndexError if index is out of range\n",
        "\n",
        "    except ValueError:\n",
        "        # Handle invalid input conversion to integer\n",
        "        print(\"Error: Please enter a valid integer.\")\n",
        "\n",
        "    except ZeroDivisionError:\n",
        "        # Handle division by zero error\n",
        "        print(\"Error: Division by zero is not allowed.\")\n",
        "\n",
        "    except IndexError:\n",
        "        # Handle out of range index error for lists\n",
        "        print(\"Error: Index is out of range.\")\n",
        "\n",
        "    except Exception as e:\n",
        "        # Handle any other unexpected errors\n",
        "        print(f\"An unexpected error occurred: {e}\")\n",
        "\n",
        "# Call the function\n",
        "handle_exceptions()\n"
      ],
      "metadata": {
        "colab": {
          "base_uri": "https://localhost:8080/",
          "height": 106
        },
        "id": "5IjHELZVUCNs",
        "outputId": "3bb88a2d-f579-410a-d1f9-6710b78bf49f"
      },
      "execution_count": 11,
      "outputs": [
        {
          "output_type": "error",
          "ename": "SyntaxError",
          "evalue": "invalid syntax (<ipython-input-11-ad5175fff3cf>, line 3)",
          "traceback": [
            "\u001b[0;36m  File \u001b[0;32m\"<ipython-input-11-ad5175fff3cf>\"\u001b[0;36m, line \u001b[0;32m3\u001b[0m\n\u001b[0;31m    Ans-def handle_exceptions():\u001b[0m\n\u001b[0m        ^\u001b[0m\n\u001b[0;31mSyntaxError\u001b[0m\u001b[0;31m:\u001b[0m invalid syntax\n"
          ]
        }
      ]
    },
    {
      "cell_type": "code",
      "source": [
        "#13.How would you check if a file exists before attempting to read it in Python?\n",
        "\n",
        "Ans-In Python, you can check if a file exists before attempting to read it using the os.path.exists() method or pathlib.Path.exists() method.\n",
        "\n",
        "Here are the two common approaches:\n",
        "\n",
        "1. Using os.path.exists() from the os module\n",
        "python\n",
        "Copy\n",
        "import os\n",
        "\n",
        "file_path = 'example.txt'\n",
        "\n",
        "# Check if the file exists before trying to open it\n",
        "if os.path.exists(file_path):\n",
        "    try:\n",
        "        with open(file_path, 'r') as file:\n",
        "            content = file.read()\n",
        "            print(content)\n",
        "    except Exception as e:\n",
        "        print(f\"An error occurred: {e}\")\n",
        "else:\n",
        "    print(f\"The file {file_path} does not exist.\")\n",
        "\n",
        "2. Using pathlib.Path.exists() from the pathlib module\n",
        "python\n",
        "Copy\n",
        "from pathlib import Path\n",
        "\n",
        "file_path = Path('example.txt')\n",
        "\n",
        "# Check if the file exists before trying to open it\n",
        "if file_path.exists():\n",
        "    try:\n",
        "        with file_path.open('r') as file:\n",
        "            content = file.read()\n",
        "            print(content)\n",
        "    except Exception as e:\n",
        "        print(f\"An error occurred: {e}\")\n",
        "else:\n",
        "    print(f\"The file {file_path} does not exist.\")"
      ],
      "metadata": {
        "colab": {
          "base_uri": "https://localhost:8080/",
          "height": 106
        },
        "id": "6yoGURyVUR7A",
        "outputId": "31ca35ad-8fbb-449a-9a76-171a30e11ae7"
      },
      "execution_count": 12,
      "outputs": [
        {
          "output_type": "error",
          "ename": "SyntaxError",
          "evalue": "invalid syntax (<ipython-input-12-ebe78f74e0a1>, line 3)",
          "traceback": [
            "\u001b[0;36m  File \u001b[0;32m\"<ipython-input-12-ebe78f74e0a1>\"\u001b[0;36m, line \u001b[0;32m3\u001b[0m\n\u001b[0;31m    Ans-In Python, you can check if a file exists before attempting to read it using the os.path.exists() method or pathlib.Path.exists() method.\u001b[0m\n\u001b[0m           ^\u001b[0m\n\u001b[0;31mSyntaxError\u001b[0m\u001b[0;31m:\u001b[0m invalid syntax\n"
          ]
        }
      ]
    },
    {
      "cell_type": "code",
      "source": [
        "#14.Write a program that uses the logging module to log both informational and error messages.\n",
        "\n",
        "Ans-import logging\n",
        "\n",
        "# Configure the logging module\n",
        "logging.basicConfig(\n",
        "    level=logging.DEBUG,  # Set the minimum log level to DEBUG (this will capture INFO, WARNING, ERROR, etc.)\n",
        "    format='%(asctime)s - %(levelname)s - %(message)s',  # Log format: timestamp, log level, message\n",
        "    handlers=[\n",
        "        logging.StreamHandler()  # Output logs to the console\n",
        "    ]\n",
        ")\n",
        "\n",
        "# Example informational message\n",
        "logging.info(\"This is an informational message.\")\n",
        "\n",
        "# Example error message (simulating an error with a try-except block)\n",
        "try:\n",
        "    # Simulating a division by zero error\n",
        "    result = 10 / 0\n",
        "except ZeroDivisionError as e:\n",
        "    logging.error(f\"Error occurred: {e}\")\n",
        "\n",
        "# Another informational message\n",
        "logging.info(\"This is another informational message.\")\n",
        "\n",
        "# Another error message (simulating a different error)\n",
        "try:\n",
        "    # Trying to access an undefined key in a dictionary\n",
        "    my_dict = {'name': 'Alice'}\n",
        "    value = my_dict['age']  # Key 'age' does not exist, will raise KeyError\n",
        "except KeyError as e:\n",
        "    logging.error(f\"Error occurred: {e}\")\n"
      ],
      "metadata": {
        "colab": {
          "base_uri": "https://localhost:8080/",
          "height": 106
        },
        "id": "EPM7PnEuUkKg",
        "outputId": "eb564806-be39-48a7-fd5a-4ebe258ead0c"
      },
      "execution_count": 13,
      "outputs": [
        {
          "output_type": "error",
          "ename": "SyntaxError",
          "evalue": "invalid syntax (<ipython-input-13-88da22e02064>, line 3)",
          "traceback": [
            "\u001b[0;36m  File \u001b[0;32m\"<ipython-input-13-88da22e02064>\"\u001b[0;36m, line \u001b[0;32m3\u001b[0m\n\u001b[0;31m    Ans-import logging\u001b[0m\n\u001b[0m        ^\u001b[0m\n\u001b[0;31mSyntaxError\u001b[0m\u001b[0;31m:\u001b[0m invalid syntax\n"
          ]
        }
      ]
    },
    {
      "cell_type": "code",
      "source": [
        "#15.Write a Python program that prints the content of a file and handles the case when the file is empty.\n",
        "\n",
        "Ans-def read_file(file_path):\n",
        "    try:\n",
        "        # Open the file in read mode\n",
        "        with open(file_path, 'r') as file:\n",
        "            content = file.read()  # Read the entire content of the file\n",
        "\n",
        "            # Check if the file is empty\n",
        "            if content == \"\":\n",
        "                print(\"The file is empty.\")\n",
        "            else:\n",
        "                print(\"File content:\")\n",
        "                print(content)\n",
        "    except FileNotFoundError:\n",
        "        print(f\"Error: The file '{file_path}' was not found.\")\n",
        "    except Exception as e:\n",
        "        print(f\"An unexpected error occurred: {e}\")\n",
        "\n",
        "# File path to read\n",
        "file_path = 'example.txt'\n",
        "\n",
        "# Call the function to read and print the file content\n",
        "read_file(file_path)"
      ],
      "metadata": {
        "colab": {
          "base_uri": "https://localhost:8080/",
          "height": 106
        },
        "id": "4phg_wS8U0JA",
        "outputId": "c9bf2056-b1a2-4907-ba57-c0f9fcaf3872"
      },
      "execution_count": 14,
      "outputs": [
        {
          "output_type": "error",
          "ename": "SyntaxError",
          "evalue": "invalid syntax (<ipython-input-14-10a05bb076f5>, line 3)",
          "traceback": [
            "\u001b[0;36m  File \u001b[0;32m\"<ipython-input-14-10a05bb076f5>\"\u001b[0;36m, line \u001b[0;32m3\u001b[0m\n\u001b[0;31m    Ans-def read_file(file_path):\u001b[0m\n\u001b[0m        ^\u001b[0m\n\u001b[0;31mSyntaxError\u001b[0m\u001b[0;31m:\u001b[0m invalid syntax\n"
          ]
        }
      ]
    },
    {
      "cell_type": "code",
      "source": [
        "#16.Demonstrate how to use memory profiling to check the memory usage of a small program.\n",
        "\n",
        "Ans-To profile memory usage in Python, you can use the memory_profiler library, which allows you to monitor memory consumption of your Python program line by line. This is helpful to understand where the most memory is being consumed.\n",
        "\n",
        "Step 1: Install memory_profiler\n",
        "You first need to install the memory_profiler library. You can install it via pip:\n",
        "\n",
        "bash\n",
        "Copy\n",
        "pip install memory-profiler\n",
        "Step 2: Write a Python Program with Memory Profiling\n",
        "Here's an example Python program that demonstrates how to use memory_profiler to check memory usage:\n",
        "\n",
        "python\n",
        "Copy\n",
        "from memory_profiler import profile\n",
        "\n",
        "# Define a function with memory profiling\n",
        "@profile\n",
        "def example_function():\n",
        "    # Some memory operations\n",
        "    a = [i for i in range(10000)]  # Creating a list of 10,000 elements\n",
        "    b = [i**2 for i in range(10000)]  # Creating another list with squared numbers\n",
        "    c = [x + y for x, y in zip(a, b)]  # Adding elements from both lists\n",
        "\n",
        "    return c\n",
        "\n",
        "# Call the function\n",
        "if __name__ == \"__main__\":\n",
        "    example_function()"
      ],
      "metadata": {
        "colab": {
          "base_uri": "https://localhost:8080/",
          "height": 106
        },
        "id": "zbCrRul9VBB7",
        "outputId": "10a6a897-5fa3-4f08-d158-aa40f3bc40fd"
      },
      "execution_count": 15,
      "outputs": [
        {
          "output_type": "error",
          "ename": "SyntaxError",
          "evalue": "unterminated string literal (detected at line 12) (<ipython-input-15-45a51d2a5999>, line 12)",
          "traceback": [
            "\u001b[0;36m  File \u001b[0;32m\"<ipython-input-15-45a51d2a5999>\"\u001b[0;36m, line \u001b[0;32m12\u001b[0m\n\u001b[0;31m    Here's an example Python program that demonstrates how to use memory_profiler to check memory usage:\u001b[0m\n\u001b[0m        ^\u001b[0m\n\u001b[0;31mSyntaxError\u001b[0m\u001b[0;31m:\u001b[0m unterminated string literal (detected at line 12)\n"
          ]
        }
      ]
    },
    {
      "cell_type": "code",
      "source": [
        "#17.Write a Python program to create and write a list of numbers to a file, one number per line.\n",
        "\n",
        "Ans-def write_numbers_to_file(file_name, numbers):\n",
        "    try:\n",
        "        # Open the file in write mode\n",
        "        with open(file_name, 'w') as file:\n",
        "            # Write each number to the file, one per line\n",
        "            for number in numbers:\n",
        "                file.write(f\"{number}\\n\")\n",
        "        print(f\"Numbers have been written to {file_name}\")\n",
        "    except Exception as e:\n",
        "        print(f\"An error occurred: {e}\")\n",
        "\n",
        "# Example list of numbers\n",
        "numbers_list = [1, 2, 3, 4, 5, 6, 7, 8, 9, 10]\n",
        "\n",
        "# File name to store the numbers\n",
        "file_name = 'numbers.txt'\n",
        "\n",
        "# Call the function to write numbers to the file\n",
        "write_numbers_to_file(file_name, numbers_list)"
      ],
      "metadata": {
        "colab": {
          "base_uri": "https://localhost:8080/",
          "height": 106
        },
        "id": "toQ6wSdGVUPQ",
        "outputId": "223747cf-6b08-4c76-ab46-b5bdf633c9ee"
      },
      "execution_count": 16,
      "outputs": [
        {
          "output_type": "error",
          "ename": "SyntaxError",
          "evalue": "invalid syntax (<ipython-input-16-5612284135e6>, line 3)",
          "traceback": [
            "\u001b[0;36m  File \u001b[0;32m\"<ipython-input-16-5612284135e6>\"\u001b[0;36m, line \u001b[0;32m3\u001b[0m\n\u001b[0;31m    Ans-def write_numbers_to_file(file_name, numbers):\u001b[0m\n\u001b[0m        ^\u001b[0m\n\u001b[0;31mSyntaxError\u001b[0m\u001b[0;31m:\u001b[0m invalid syntax\n"
          ]
        }
      ]
    },
    {
      "cell_type": "code",
      "source": [
        "#18. How would you implement a basic logging setup that logs to a file with rotation after 1MB?\n",
        "\n",
        "Ans-To implement a basic logging setup that logs to a file with rotation after 1MB, you can use Python's logging module along with logging.handlers.RotatingFileHandler. This handler automatically manages the log file by rotating it when it exceeds a specified size (in this case, 1MB).\n",
        "\n",
        "Steps to Implement:\n",
        "Configure the Logger: Set up a logger to capture log messages.\n",
        "Use RotatingFileHandler: Set it up to write logs to a file, rotating the file when it exceeds 1MB.\n",
        "Set the Log Level: Configure the logging level and format for the messages.\n"
      ],
      "metadata": {
        "colab": {
          "base_uri": "https://localhost:8080/",
          "height": 141
        },
        "id": "x-ojIluiVjn8",
        "outputId": "d50e5c9e-1975-4413-e4ca-aa600add468d"
      },
      "execution_count": 17,
      "outputs": [
        {
          "output_type": "error",
          "ename": "SyntaxError",
          "evalue": "invalid decimal literal (<ipython-input-17-09101ad7d113>, line 3)",
          "traceback": [
            "\u001b[0;36m  File \u001b[0;32m\"<ipython-input-17-09101ad7d113>\"\u001b[0;36m, line \u001b[0;32m3\u001b[0m\n\u001b[0;31m    Ans-To implement a basic logging setup that logs to a file with rotation after 1MB, you can use Python's logging module along with logging.handlers.RotatingFileHandler. This handler automatically manages the log file by rotating it when it exceeds a specified size (in this case, 1MB).\u001b[0m\n\u001b[0m                                                                                   ^\u001b[0m\n\u001b[0;31mSyntaxError\u001b[0m\u001b[0;31m:\u001b[0m invalid decimal literal\n"
          ]
        }
      ]
    },
    {
      "cell_type": "code",
      "source": [
        "#19.Write a program that handles both IndexError and KeyError using a try-except block.\n",
        "\n",
        "Ans-def handle_exceptions():\n",
        "    # Example list and dictionary for testing\n",
        "    my_list = [10, 20, 30]\n",
        "    my_dict = {\"name\": \"Alice\", \"age\": 25}\n",
        "\n",
        "    try:\n",
        "        # Simulating an IndexError by accessing an invalid index in the list\n",
        "        print(\"Accessing list element:\", my_list[5])  # Index 5 does not exist\n",
        "\n",
        "        # Simulating a KeyError by accessing a non-existent key in the dictionary\n",
        "        print(\"Accessing dictionary value:\", my_dict[\"address\"])  # Key 'address' does not exist\n",
        "\n",
        "    except IndexError as e:\n",
        "        print(f\"IndexError occurred: {e}\")\n",
        "\n",
        "    except KeyError as e:\n",
        "        print(f\"KeyError occurred: {e}\")\n",
        "\n",
        "# Call the function to handle exceptions\n",
        "handle_exceptions()"
      ],
      "metadata": {
        "colab": {
          "base_uri": "https://localhost:8080/",
          "height": 106
        },
        "id": "1-fonNUJVx36",
        "outputId": "18f5b38c-905d-4719-9f66-4444581fba1d"
      },
      "execution_count": 18,
      "outputs": [
        {
          "output_type": "error",
          "ename": "SyntaxError",
          "evalue": "invalid syntax (<ipython-input-18-d9abf7a3c642>, line 3)",
          "traceback": [
            "\u001b[0;36m  File \u001b[0;32m\"<ipython-input-18-d9abf7a3c642>\"\u001b[0;36m, line \u001b[0;32m3\u001b[0m\n\u001b[0;31m    Ans-def handle_exceptions():\u001b[0m\n\u001b[0m        ^\u001b[0m\n\u001b[0;31mSyntaxError\u001b[0m\u001b[0;31m:\u001b[0m invalid syntax\n"
          ]
        }
      ]
    },
    {
      "cell_type": "code",
      "source": [
        "#20. How would you open a file and read its contents using a context manager in Python?\n",
        "\n",
        "Ans-def read_file(file_name):\n",
        "    try:\n",
        "        # Open the file using a context manager\n",
        "        with open(file_name, 'r') as file:\n",
        "            # Read the entire content of the file\n",
        "            content = file.read()\n",
        "            print(\"File content:\")\n",
        "            print(content)\n",
        "    except FileNotFoundError:\n",
        "        print(f\"Error: The file '{file_name}' was not found.\")\n",
        "    except Exception as e:\n",
        "        print(f\"An error occurred: {e}\")\n",
        "\n",
        "# Example usage\n",
        "file_name = 'example.txt'\n",
        "read_file(file_name)"
      ],
      "metadata": {
        "colab": {
          "base_uri": "https://localhost:8080/",
          "height": 106
        },
        "id": "Znd8RdTXWH91",
        "outputId": "f64ddfb6-7091-4221-86da-8bc560ca9898"
      },
      "execution_count": 19,
      "outputs": [
        {
          "output_type": "error",
          "ename": "SyntaxError",
          "evalue": "invalid syntax (<ipython-input-19-e0286c003fca>, line 3)",
          "traceback": [
            "\u001b[0;36m  File \u001b[0;32m\"<ipython-input-19-e0286c003fca>\"\u001b[0;36m, line \u001b[0;32m3\u001b[0m\n\u001b[0;31m    Ans-def read_file(file_name):\u001b[0m\n\u001b[0m        ^\u001b[0m\n\u001b[0;31mSyntaxError\u001b[0m\u001b[0;31m:\u001b[0m invalid syntax\n"
          ]
        }
      ]
    },
    {
      "cell_type": "code",
      "source": [
        "#21.Write a Python program that reads a file and prints the number of occurrences of a specific word.\n",
        "\n",
        "Ans-def count_word_occurrences(file_name, word_to_count):\n",
        "    try:\n",
        "        # Open the file using a context manager\n",
        "        with open(file_name, 'r') as file:\n",
        "            # Read all lines in the file\n",
        "            content = file.read()\n",
        "\n",
        "            # Count the occurrences of the word\n",
        "            word_count = content.lower().split().count(word_to_count.lower())\n",
        "\n",
        "            print(f\"The word '{word_to_count}' occurs {word_count} time(s) in the file.\")\n",
        "\n",
        "    except FileNotFoundError:\n",
        "        print(f\"Error: The file '{file_name}' was not found.\")\n",
        "    except Exception as e:\n",
        "        print(f\"An error occurred: {e}\")\n",
        "\n",
        "# Example usage\n",
        "file_name = 'example.txt'  # Replace with your file path\n",
        "word_to_count = 'python'    # Word to search in the file\n",
        "count_word_occurrences(file_name, word_to_count)\n"
      ],
      "metadata": {
        "colab": {
          "base_uri": "https://localhost:8080/",
          "height": 106
        },
        "id": "IOlGBzm_WWzb",
        "outputId": "5d1aafaa-4e3c-488e-b662-e75a7b1253d6"
      },
      "execution_count": 20,
      "outputs": [
        {
          "output_type": "error",
          "ename": "SyntaxError",
          "evalue": "invalid syntax (<ipython-input-20-ad9ee81e11ed>, line 3)",
          "traceback": [
            "\u001b[0;36m  File \u001b[0;32m\"<ipython-input-20-ad9ee81e11ed>\"\u001b[0;36m, line \u001b[0;32m3\u001b[0m\n\u001b[0;31m    Ans-def count_word_occurrences(file_name, word_to_count):\u001b[0m\n\u001b[0m        ^\u001b[0m\n\u001b[0;31mSyntaxError\u001b[0m\u001b[0;31m:\u001b[0m invalid syntax\n"
          ]
        }
      ]
    },
    {
      "cell_type": "code",
      "source": [
        "#22.How can you check if a file is empty before attempting to read its contents?\n",
        "\n",
        "Ans-To check if a file is empty before attempting to read its contents in Python, you can use the os module to check the file size. If the file size is zero, it is empty. If the size is greater than zero, you can proceed to read the contents.\n",
        "\n",
        "Here’s a Python program that checks if a file is empty before reading it:\n",
        "\n",
        "Python Program to Check if a File is Empty Before Reading\n",
        "python\n",
        "Copy\n",
        "import os\n",
        "\n",
        "def read_file_if_not_empty(file_name):\n",
        "    # Check if the file exists and is empty\n",
        "    if os.path.exists(file_name) and os.path.getsize(file_name) > 0:\n",
        "        try:\n",
        "            # Open the file and read its contents\n",
        "            with open(file_name, 'r') as file:\n",
        "                content = file.read()\n",
        "                print(\"File content:\")\n",
        "                print(content)\n",
        "        except Exception as e:\n",
        "            print(f\"An error occurred while reading the file: {e}\")\n",
        "    elif os.path.exists(file_name):\n",
        "        print(f\"The file '{file_name}' is empty.\")\n",
        "    else:\n",
        "        print(f\"The file '{file_name}' does not exist.\")\n",
        "\n",
        "# Example usage\n",
        "file_name = 'example.txt'  # Replace with your file path\n",
        "read_file_if_not_empty(file_name)"
      ],
      "metadata": {
        "colab": {
          "base_uri": "https://localhost:8080/",
          "height": 106
        },
        "id": "WkIZV-4xWw7K",
        "outputId": "af054df5-67a7-46ec-caee-4fe1f70f1385"
      },
      "execution_count": 21,
      "outputs": [
        {
          "output_type": "error",
          "ename": "SyntaxError",
          "evalue": "invalid character '’' (U+2019) (<ipython-input-21-f63f5b6a51d5>, line 5)",
          "traceback": [
            "\u001b[0;36m  File \u001b[0;32m\"<ipython-input-21-f63f5b6a51d5>\"\u001b[0;36m, line \u001b[0;32m5\u001b[0m\n\u001b[0;31m    Here’s a Python program that checks if a file is empty before reading it:\u001b[0m\n\u001b[0m        ^\u001b[0m\n\u001b[0;31mSyntaxError\u001b[0m\u001b[0;31m:\u001b[0m invalid character '’' (U+2019)\n"
          ]
        }
      ]
    },
    {
      "cell_type": "code",
      "source": [
        "#23.Write a Python program that writes to a log file when an error occurs during file handling.\n",
        "\n",
        "Ans-import logging\n",
        "\n",
        "# Set up logging to write to a log file\n",
        "logging.basicConfig(filename='file_handling.log',\n",
        "                    level=logging.ERROR,  # Log only error messages and higher\n",
        "                    format='%(asctime)s - %(levelname)s - %(message)s')\n",
        "\n",
        "def read_file(file_name):\n",
        "    try:\n",
        "        # Attempt to open and read the file\n",
        "        with open(file_name, 'r') as file:\n",
        "            content = file.read()\n",
        "            print(\"File content:\")\n",
        "            print(content)\n",
        "\n",
        "    except FileNotFoundError as e:\n",
        "        # Log the error to the log file\n",
        "        logging.error(f\"FileNotFoundError: The file '{file_name}' was not found.\")\n",
        "        print(f\"Error: The file '{file_name}' was not found.\")\n",
        "\n",
        "    except PermissionError as e:\n",
        "        # Log the error to the log file\n",
        "        logging.error(f\"PermissionError: You don't have permission to access '{file_name}'.\")\n",
        "        print(f\"Error: You don't have permission to access '{file_name}'.\")\n",
        "\n",
        "    except Exception as e:\n",
        "        # Log any other exceptions to the log file\n",
        "        logging.error(f\"An error occurred while handling the file '{file_name}': {e}\")\n",
        "        print(f\"An error occurred: {e}\")\n",
        "\n",
        "# Example usage\n",
        "file_name = 'non_existent_file.txt'  # Replace with the file name you want to test\n",
        "read_file(file_name)"
      ],
      "metadata": {
        "colab": {
          "base_uri": "https://localhost:8080/",
          "height": 106
        },
        "id": "R8EsVh69W-Ch",
        "outputId": "8c5dbac5-4e64-42f5-f581-8c1ecb74e19f"
      },
      "execution_count": 22,
      "outputs": [
        {
          "output_type": "error",
          "ename": "SyntaxError",
          "evalue": "invalid syntax (<ipython-input-22-0a0c8e530175>, line 3)",
          "traceback": [
            "\u001b[0;36m  File \u001b[0;32m\"<ipython-input-22-0a0c8e530175>\"\u001b[0;36m, line \u001b[0;32m3\u001b[0m\n\u001b[0;31m    Ans-import logging\u001b[0m\n\u001b[0m        ^\u001b[0m\n\u001b[0;31mSyntaxError\u001b[0m\u001b[0;31m:\u001b[0m invalid syntax\n"
          ]
        }
      ]
    },
    {
      "cell_type": "code",
      "source": [],
      "metadata": {
        "id": "ftnZrWSPXNWh"
      },
      "execution_count": null,
      "outputs": []
    }
  ]
}